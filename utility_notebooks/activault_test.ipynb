{
 "cells": [
  {
   "cell_type": "code",
   "execution_count": null,
   "metadata": {},
   "outputs": [],
   "source": [
    "%load_ext autoreload\n",
    "%autoreload 2"
   ]
  },
  {
   "cell_type": "code",
   "execution_count": null,
   "metadata": {},
   "outputs": [],
   "source": [
    "\n",
    "from transformers import AutoTokenizer\n",
    "from activault_rcache import S3RCache, create_s3_client, ActivaultS3ActivationBuffer\n",
    "import os\n",
    "import json\n",
    "import logging\n"
   ]
  },
  {
   "cell_type": "code",
   "execution_count": null,
   "metadata": {},
   "outputs": [],
   "source": [
    "logging.basicConfig(level=logging.INFO)\n",
    "logger = logging.getLogger(__name__)\n",
    "\n",
    "\n",
    "def get_first_hook_prefix(run_name, bucket_name):\n",
    "    \"\"\"Get the first available hook prefix for the run.\"\"\"\n",
    "    s3_client = create_s3_client()\n",
    "    response = s3_client.list_objects_v2(Bucket=bucket_name, Prefix=f\"{run_name}/\", Delimiter=\"/\")\n",
    "    if \"CommonPrefixes\" in response:\n",
    "        # Get first hook directory\n",
    "        first_hook = response[\"CommonPrefixes\"][0][\"Prefix\"].rstrip(\"/\")\n",
    "        return first_hook\n",
    "    return None\n",
    "\n",
    "\n",
    "def get_model_name_from_config(run_name, bucket_name):\n",
    "    \"\"\"Get model name from the run's config file.\"\"\"\n",
    "    s3_client = create_s3_client()\n",
    "    cfg_path = f\"/tmp/{run_name}_cfg.json\"\n",
    "    s3_client.download_file(bucket_name, f\"{run_name}/cfg.json\", cfg_path)\n",
    "    with open(cfg_path, \"r\") as f:\n",
    "        model_name = json.load(f)[\"transformer_config\"][\"model_name\"]\n",
    "    os.remove(cfg_path)\n",
    "    return model_name\n",
    "\n",
    "\n",
    "def inspect_batch(states, input_ids, tokenizer):\n",
    "    \"\"\"Helper function to inspect a batch of activations and tokens.\"\"\"\n",
    "    logger.info(f\"States shape: {states.shape}\")\n",
    "    logger.info(f\"Input IDs shape: {input_ids.shape}\")\n",
    "    logger.info(f\"\\nStats: mean={states.mean().item():.4f}, std={states.std().item():.4f}\")\n",
    "    logger.info(f\"Sample text: {tokenizer.decode(input_ids[0])[:100]}...\")\n"
   ]
  },
  {
   "cell_type": "code",
   "execution_count": null,
   "metadata": {},
   "outputs": [],
   "source": [
    "%env AWS_ACCESS_KEY_ID=#put sensitive details here\n",
    "%env AWS_SECRET_ACCESS_KEY=#...\n",
    "%env S3_ENDPOINT_URL=#...\n",
    "%env S3_BUCKET_NAME=main"
   ]
  },
  {
   "cell_type": "code",
   "execution_count": null,
   "metadata": {},
   "outputs": [],
   "source": [
    "!echo $AWS_ACCESS_KEY_ID\n",
    "!echo $AWS_SECRET_ACCESS_KEY\n",
    "!echo $S3_ENDPOINT_URL\n",
    "!echo $S3_BUCKET_NAME"
   ]
  },
  {
   "cell_type": "code",
   "execution_count": null,
   "metadata": {},
   "outputs": [],
   "source": [
    "\n",
    "# Constants\n",
    "RUN_NAME = \"mistral.24b.fineweb\"  # Base run name without hook\n",
    "BUCKET_NAME = os.environ.get(\"S3_BUCKET_NAME\", \"main\")\n",
    "\n",
    "# logger.info(\"Demo: Reading transformer activations from S3 cache\")\n",
    "\n",
    "# # Get first available hook prefix\n",
    "# prefix = get_first_hook_prefix(RUN_NAME, BUCKET_NAME)\n",
    "# if not prefix:\n",
    "#     logger.error(f\"No hooks found for run {RUN_NAME}\")\n",
    "#     raise ValueError(f\"No hooks found for run {RUN_NAME}\")\n",
    "# logger.info(f\"Using hook prefix: {prefix}\")\n",
    "\n",
    "# Initialize tokenizer\n",
    "model_name = get_model_name_from_config(RUN_NAME, BUCKET_NAME)\n",
    "tokenizer = AutoTokenizer.from_pretrained(model_name)\n",
    "\n",
    "s3_prefix=[\"mistral.24b.fineweb/blocks.10.hook_resid_post\", \"mistral.24b.lmsys/blocks.10.hook_resid_post\"]\n",
    "s3_prefix=[\"mistral.24b.fineweb/blocks.10.hook_resid_post\"]\n",
    "shuffle=True\n",
    "\n",
    "# s3_prefix = (\n",
    "#     f\"{cfg.train_dataset}/{hookpoint}\"\n",
    "#     if not isinstance(cfg.train_dataset, list)\n",
    "#     else [f\"{dataset}/{hookpoint}\" for dataset in cfg.train_dataset]\n",
    "# )\n",
    "\n",
    "cache = S3RCache.from_credentials(\n",
    "        aws_access_key_id=os.environ.get(\"AWS_ACCESS_KEY_ID\"),\n",
    "        aws_secret_access_key=os.environ.get(\"AWS_SECRET_ACCESS_KEY\"),\n",
    "        s3_prefix=s3_prefix,\n",
    "        bucket_name=BUCKET_NAME,\n",
    "        device=\"cpu\",\n",
    "        buffer_size=2,\n",
    "        return_ids=True,\n",
    "        shuffle=True,\n",
    "    )"
   ]
  },
  {
   "cell_type": "code",
   "execution_count": null,
   "metadata": {},
   "outputs": [],
   "source": [
    "buffer = ActivaultS3ActivationBuffer(cache, batch_size=8192, device=\"cuda\", io=\"out\")"
   ]
  },
  {
   "cell_type": "code",
   "execution_count": null,
   "metadata": {},
   "outputs": [],
   "source": [
    "for i, batch in enumerate(buffer):\n",
    "    print(batch.shape)\n",
    "    if i > 10:\n",
    "        break\n"
   ]
  },
  {
   "cell_type": "code",
   "execution_count": null,
   "metadata": {},
   "outputs": [],
   "source": [
    "logger.info(\"\\nReading first two megabatch files from S3...\")\n",
    "logger.info(\"Each file contains n_batches_per_file batches concatenated together\")\n",
    "logger.info(\"Format: [n_batches_per_file, sequence_length, hidden_dim]\\n\")\n",
    "\n",
    "test_batches = []\n",
    "\n",
    "# Inspect a few batches\n",
    "for batch_idx, batch in enumerate(cache):\n",
    "    if batch_idx >= 2:\n",
    "        break\n",
    "    test_batches.append(batch)\n",
    "    inspect_batch(batch[\"states\"], batch[\"input_ids\"], tokenizer)\n",
    "\n",
    "cache.finalize()"
   ]
  },
  {
   "cell_type": "code",
   "execution_count": null,
   "metadata": {},
   "outputs": [],
   "source": [
    "def inspect_batch(states, input_ids, tokenizer):\n",
    "    \"\"\"Helper function to inspect a batch of activations and tokens.\"\"\"\n",
    "    logger.info(f\"States shape: {states.shape}\")\n",
    "    logger.info(f\"Input IDs shape: {input_ids.shape}\")\n",
    "    logger.info(f\"\\nStats: mean={states.mean().item():.4f}, std={states.std().item():.4f}\")\n",
    "    logger.info(f\"Sample text: {tokenizer.decode(input_ids[0])[:100]}...\")\n",
    "\n",
    "first_batch = test_batches[0]\n",
    "inspect_batch(first_batch[\"states\"], first_batch[\"input_ids\"], tokenizer)\n"
   ]
  },
  {
   "cell_type": "code",
   "execution_count": null,
   "metadata": {},
   "outputs": [],
   "source": [
    "example = \"<s>[INST]testing prompt[/INST] testing response\"\n",
    "print(tokenizer.encode(example))"
   ]
  },
  {
   "cell_type": "code",
   "execution_count": null,
   "metadata": {},
   "outputs": [],
   "source": [
    "print(first_batch[\"input_ids\"][0, :10])"
   ]
  },
  {
   "cell_type": "code",
   "execution_count": null,
   "metadata": {},
   "outputs": [],
   "source": [
    "print(first_batch[\"input_ids\"].shape)"
   ]
  },
  {
   "cell_type": "code",
   "execution_count": null,
   "metadata": {},
   "outputs": [],
   "source": [
    "# Count occurrences of 3 and 4 in the input_ids tensor\n",
    "num_ones = (first_batch[\"input_ids\"] == 1).sum().item()\n",
    "num_threes = (first_batch[\"input_ids\"] == 3).sum().item()\n",
    "num_fours = (first_batch[\"input_ids\"] == 4).sum().item()\n",
    "\n",
    "print(f\"Number of 3s: {num_threes}\")\n",
    "print(f\"Number of 4s: {num_fours}\")\n",
    "print(f\"Number of 1s: {num_ones}\")"
   ]
  },
  {
   "cell_type": "code",
   "execution_count": null,
   "metadata": {},
   "outputs": [],
   "source": [
    "buffer = ActivaultS3ActivationBuffer(cache, batch_size=8192, device=\"cuda\", io=\"out\")"
   ]
  }
 ],
 "metadata": {
  "kernelspec": {
   "display_name": ".venv",
   "language": "python",
   "name": "python3"
  },
  "language_info": {
   "codemirror_mode": {
    "name": "ipython",
    "version": 3
   },
   "file_extension": ".py",
   "mimetype": "text/x-python",
   "name": "python",
   "nbconvert_exporter": "python",
   "pygments_lexer": "ipython3",
   "version": "3.10.12"
  }
 },
 "nbformat": 4,
 "nbformat_minor": 2
}
