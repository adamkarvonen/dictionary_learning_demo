{
 "cells": [
  {
   "cell_type": "code",
   "execution_count": null,
   "metadata": {},
   "outputs": [],
   "source": [
    "import os\n",
    "import shutil\n",
    "\n",
    "# Define the source and destination folders\n",
    "folder_name = \"standard_old_init_loss_more_sparsity_200m\"\n",
    "folder_name = \"standard_baseline_200m\"\n",
    "new_folder_name = f\"{folder_name}_results\"\n",
    "\n",
    "files_copied = 0\n",
    "\n",
    "# Walk through the directory tree\n",
    "for root, _, files in os.walk(folder_name):\n",
    "    for file_name in files:\n",
    "        # Check if the file is a JSON file\n",
    "        if file_name.endswith(\".json\"):\n",
    "            files_copied += 1\n",
    "            # Construct the relative path for the subdirectory\n",
    "            relative_path = os.path.relpath(root, folder_name)\n",
    "            destination_dir = os.path.join(new_folder_name, relative_path)\n",
    "            \n",
    "            # Ensure the destination directory exists\n",
    "            os.makedirs(destination_dir, exist_ok=True)\n",
    "            \n",
    "            # Construct full source and destination file paths\n",
    "            source_path = os.path.join(root, file_name)\n",
    "            destination_path = os.path.join(destination_dir, file_name)\n",
    "            \n",
    "            # Copy the JSON file to the corresponding directory\n",
    "            shutil.copy(source_path, destination_path)\n",
    "\n",
    "print(f\"{files_copied} JSON files have been copied to {new_folder_name} with the folder structure maintained.\")"
   ]
  }
 ],
 "metadata": {
  "kernelspec": {
   "display_name": "base",
   "language": "python",
   "name": "python3"
  },
  "language_info": {
   "codemirror_mode": {
    "name": "ipython",
    "version": 3
   },
   "file_extension": ".py",
   "mimetype": "text/x-python",
   "name": "python",
   "nbconvert_exporter": "python",
   "pygments_lexer": "ipython3",
   "version": "3.10.13"
  }
 },
 "nbformat": 4,
 "nbformat_minor": 2
}
