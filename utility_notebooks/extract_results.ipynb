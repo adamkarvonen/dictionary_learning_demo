{
 "cells": [
  {
   "cell_type": "code",
   "execution_count": null,
   "metadata": {},
   "outputs": [],
   "source": [
    "import os\n",
    "import shutil\n",
    "\n",
    "# Define the source and destination folders\n",
    "folder_name = \"standard_baseline_200m\"\n",
    "new_folder_name = f\"{folder_name}_results\"\n",
    "\n",
    "# Create the destination folder if it doesn't already exist\n",
    "os.makedirs(new_folder_name, exist_ok=True)\n",
    "\n",
    "# Iterate through all files in the source folder\n",
    "for file_name in os.listdir(folder_name):\n",
    "    # Check if the file is a JSON file\n",
    "    if file_name.endswith(\".json\"):\n",
    "        # Construct full file paths\n",
    "        source_path = os.path.join(folder_name, file_name)\n",
    "        destination_path = os.path.join(new_folder_name, file_name)\n",
    "        \n",
    "        # Copy the JSON file to the new folder\n",
    "        shutil.copy(source_path, destination_path)\n",
    "\n",
    "print(f\"All JSON files have been copied to {new_folder_name}.\")"
   ]
  }
 ],
 "metadata": {
  "kernelspec": {
   "display_name": "base",
   "language": "python",
   "name": "python3"
  },
  "language_info": {
   "codemirror_mode": {
    "name": "ipython",
    "version": 3
   },
   "file_extension": ".py",
   "mimetype": "text/x-python",
   "name": "python",
   "nbconvert_exporter": "python",
   "pygments_lexer": "ipython3",
   "version": "3.10.13"
  }
 },
 "nbformat": 4,
 "nbformat_minor": 2
}
